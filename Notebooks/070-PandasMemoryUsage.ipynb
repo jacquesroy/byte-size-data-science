{
 "cells": [
  {
   "cell_type": "markdown",
   "metadata": {
    "collapsed": true
   },
   "source": [
    "<IMG SRC=\"https://github.com/jacquesroy/byte-size-data-science/raw/master/images/Banner.png\" ALT=\"BSDS Banner\" WIDTH=1195 HEIGHT=200>"
   ]
  },
  {
   "cell_type": "markdown",
   "metadata": {},
   "source": [
    "# Pandas Memory Usage\n",
    "We use the Socrata API to access a large catalog of data.\n",
    "Socrata documentation: https://dev.socrata.com/\n",
    "\n",
    "The production API endpoints for the public version of this API are at https://api.us.socrata.com/api/catalog/v1 for domains in North America\n",
    "and https://api.eu.socrata.com/api/catalog/v1 for all other domains.\n",
    "\n",
    "See: \n",
    "- <a href=\"https://youtu.be/D46A9r3bfjM\" target=\"_blank\">019-Finding Data: Socrata Catalog</a>\n",
    "- <a href=\"https://youtu.be/4C9ShcU--ek\" target=\"_blank\">020-Socrata Datasets</a>\n",
    "- <a href=\"https://github.com/jacquesroy/byte-size-data-science/blob/master/Notebooks/W005-FindingData.ipynb\" target=\"_blank\">W005-FindingData.ipynb</a>"
   ]
  },
  {
   "cell_type": "code",
   "execution_count": null,
   "metadata": {},
   "outputs": [],
   "source": [
    "from IPython.display import IFrame\n",
    "\n",
    "IFrame(src=\"https://www.youtube.com/embed/t5Swm-7fAAw?rel=0&amp;controls=0&amp;showinfo=0\", width=560, height=315)"
   ]
  },
  {
   "cell_type": "markdown",
   "metadata": {},
   "source": [
    "## Import the appropriate libraries and set up needed connections"
   ]
  },
  {
   "cell_type": "code",
   "execution_count": null,
   "metadata": {},
   "outputs": [],
   "source": [
    "import pandas as pd\n",
    "import numpy as np"
   ]
  },
  {
   "cell_type": "code",
   "execution_count": null,
   "metadata": {},
   "outputs": [],
   "source": [
    "# Library used to read datasets\n",
    "# https://github.com/xmunoz/sodapy\n",
    "!pip install sodapy 2>&1 >sodapip.txt\n",
    "from sodapy import Socrata"
   ]
  },
  {
   "cell_type": "markdown",
   "metadata": {},
   "source": [
    "## Read the data\n",
    "Use some accident data from Chicago"
   ]
  },
  {
   "cell_type": "code",
   "execution_count": null,
   "metadata": {},
   "outputs": [],
   "source": [
    "# Unauthenticated client only works with public data sets. Note 'None'\n",
    "# in place of application token, and no username or password:\n",
    "client = Socrata(\"data.cityofchicago.org\", None)"
   ]
  },
  {
   "cell_type": "markdown",
   "metadata": {},
   "source": [
    "## Read some of the most recent records"
   ]
  },
  {
   "cell_type": "code",
   "execution_count": null,
   "metadata": {},
   "outputs": [],
   "source": [
    "from datetime import date\n",
    "from dateutil.relativedelta import relativedelta\n",
    "\n",
    "six_months = (date.today() - relativedelta(months=+6)).strftime('%Y-%m')\n",
    "three_months = (date.today() - relativedelta(months=+3)).strftime('%Y-%m')\n",
    "one_month = (date.today() - relativedelta(months=+1)).strftime('%Y-%m')\n",
    "\n",
    "where = \"crash_date > '{}'\".format(three_months)"
   ]
  },
  {
   "cell_type": "markdown",
   "metadata": {},
   "source": [
    "### What we get from reading from Socrata are lists\n",
    "We can read a maximum of 10,000 records so we need to loop to get all our records."
   ]
  },
  {
   "cell_type": "code",
   "execution_count": null,
   "metadata": {},
   "outputs": [],
   "source": [
    "# https://data.cityofchicago.org/Transportation/Traffic-Crashes-Crashes/85ca-t3if\n",
    "crashes_df = pd.DataFrame(client.get(\"85ca-t3if\", where=where, limit=10000))\n",
    "offset = 10000\n",
    "result = client.get(\"85ca-t3if\", where=where, offset=offset, limit=10000)\n",
    "while (len(result) > 0) :\n",
    "    crashes_df = crashes_df.append(pd.DataFrame(result), sort=True)\n",
    "    offset += 10000\n",
    "    result = client.get(\"85ca-t3if\", where=where, offset=offset, limit=10000)\n",
    "\n",
    "print(\"Number of records: {}, number of columns: {}\".format(crashes_df.shape[0], crashes_df.shape[1]))"
   ]
  },
  {
   "cell_type": "markdown",
   "metadata": {},
   "source": [
    "### File size\n",
    "Check the file size by writing it out."
   ]
  },
  {
   "cell_type": "code",
   "execution_count": null,
   "metadata": {},
   "outputs": [],
   "source": [
    "crashes_df.to_csv('crashes_df.csv', index=False)"
   ]
  },
  {
   "cell_type": "code",
   "execution_count": null,
   "metadata": {},
   "outputs": [],
   "source": [
    "!ls -l crashes*"
   ]
  },
  {
   "cell_type": "markdown",
   "metadata": {},
   "source": [
    "### Dataframe memory usage"
   ]
  },
  {
   "cell_type": "code",
   "execution_count": null,
   "metadata": {},
   "outputs": [],
   "source": [
    "# The result is a series with a value for each column, so we add them up\n",
    "crashes_df_mem = crashes_df.memory_usage(deep=True).sum()\n",
    "print(\"crashes_df memory usage: {0:,} bytes\".format(crashes_df_mem) )"
   ]
  },
  {
   "cell_type": "markdown",
   "metadata": {},
   "source": [
    "### Adjust the data types of multiple columns\n",
    "It turns out that the `object` type has quite a bit of overhead.\n",
    "\n",
    "We can convert a few columns to numerical types."
   ]
  },
  {
   "cell_type": "code",
   "execution_count": null,
   "metadata": {},
   "outputs": [],
   "source": [
    "crashes2_df = crashes_df.astype({'beat_of_occurrence': 'int64', 'crash_day_of_week': 'int64', \n",
    "                                 'crash_hour': 'int64', 'crash_month': 'int64',\n",
    "                                 'latitude': 'float64', 'longitude': 'float64', \n",
    "                                 'num_units': 'int64', 'posted_speed_limit': 'int64'}, errors = 'ignore')\n",
    "\n",
    "print(\"Number of records: {}, number of columns: {}\".format(crashes2_df.shape[0], crashes2_df.shape[1]))\n",
    "print(\"Number of attributes converted to numeric: {0}\".format(crashes2_df.dtypes[crashes2_df.dtypes != 'object'].size))\n",
    "\n",
    "crashes2_df_mem = crashes2_df.memory_usage(deep=True).sum()\n",
    "print(\"Memory usage: {0:,} bytes\".format(crashes2_df_mem) )\n",
    "print(\"Memory savings: {0:,} bytes\".format(crashes_df_mem - crashes2_df_mem))"
   ]
  },
  {
   "cell_type": "code",
   "execution_count": null,
   "metadata": {},
   "outputs": [],
   "source": [
    "crashes2_df.dtypes[crashes2_df.dtypes != 'object']"
   ]
  },
  {
   "cell_type": "markdown",
   "metadata": {},
   "source": [
    "## Compare space usage for object vs. int64 and float64"
   ]
  },
  {
   "cell_type": "code",
   "execution_count": null,
   "metadata": {},
   "outputs": [],
   "source": [
    "crash_hour_mem_object = crashes_df['crash_day_of_week'].memory_usage(deep=True,index=False)\n",
    "crash_hour_mem_int64 = crashes2_df['crash_day_of_week'].memory_usage(deep=True,index=False)\n",
    "\n",
    "print(\"Object memory usage: {:,} bytes total, {:5.2f} bytes per object\".format(\n",
    "              crash_hour_mem_object, crash_hour_mem_object / crashes_df.shape[0] ))\n",
    "print(\"int64 memory usage : {:9,d} bytes total, {:5.2f} bytes per object\".format(\n",
    "              crash_hour_mem_int64, crash_hour_mem_int64 / crashes_df.shape[0] ))"
   ]
  },
  {
   "cell_type": "code",
   "execution_count": null,
   "metadata": {},
   "outputs": [],
   "source": [
    "latitude_mem_object = crashes_df['latitude'].memory_usage(deep=True,index=False)\n",
    "latitude_mem_int64 = crashes2_df['latitude'].memory_usage(deep=True,index=False)\n",
    "\n",
    "print(\"Object memory usage: {:,} bytes total, {:5.2f} bytes per object\".format(\n",
    "              latitude_mem_object, latitude_mem_object / crashes_df.shape[0] ))\n",
    "print(\"int64 memory usage : {:9,d} bytes total, {:5.2f} bytes per object\".format(\n",
    "              latitude_mem_int64, latitude_mem_int64 / crashes_df.shape[0] ))"
   ]
  },
  {
   "cell_type": "code",
   "execution_count": null,
   "metadata": {},
   "outputs": [],
   "source": [
    "print(\"crash_day_of_week: '{}' length: {}\".format(crashes_df['crash_day_of_week'].iloc[0], len(crashes_df['crash_day_of_week'].iloc[0])))\n",
    "print(\"latitude         : '{}', length: {}\".format(crashes_df['latitude'].iloc[0], len(crashes_df['latitude'].iloc[0])))\n",
    "\n",
    "crashes_df['latitude'].head()"
   ]
  },
  {
   "cell_type": "markdown",
   "metadata": {},
   "source": [
    "## Column Elimination\n",
    "In our case we are using the location information. Still, let's eliminate the columns that are likely useless.\n",
    "We may use some of these columns later..."
   ]
  },
  {
   "cell_type": "code",
   "execution_count": null,
   "metadata": {},
   "outputs": [],
   "source": [
    "# Minimum percentage for column selection\n",
    "minpercent = .5"
   ]
  },
  {
   "cell_type": "code",
   "execution_count": null,
   "metadata": {},
   "outputs": [],
   "source": [
    "total = crashes_df.shape[0]\n",
    "result = (crashes_df.count() / total)\n",
    "colnames = result.index[result >= minpercent].tolist()\n",
    "print(\"We went from         : {} to {} columns\".format(crashes2_df.shape[1],len(colnames)))\n",
    "crashes_df2 = crashes2_df[colnames]\n",
    "print(\"crashes_df rows      : {:,}, columns: {}\".format(crashes2_df.shape[0],crashes2_df.shape[1]))\n",
    "print(\"crashes_df2 rows     : {:,}, columns: {}\".format(crashes_df2.shape[0],crashes_df2.shape[1]))\n",
    "crashes_df2_mem = crashes_df2.memory_usage(deep=True).sum()\n",
    "print(\"Memory usage         : {0:,} bytes\".format(crashes_df2_mem) )\n",
    "print(\"Memory savings       : {0:,} bytes\".format(crashes2_df_mem - crashes_df2_mem) )\n",
    "print(\"Total memory savings : {0:,} bytes\".format(crashes_df_mem - crashes_df2_mem) )\n",
    "print(\"Percent total savings: {:5.2f}%\".format(100.0 * (1.0 - (crashes_df2_mem / crashes_df_mem))) )"
   ]
  },
  {
   "cell_type": "markdown",
   "metadata": {},
   "source": [
    "## Free up memory we don't need\n",
    "That frees up quite a few MBs."
   ]
  },
  {
   "cell_type": "code",
   "execution_count": null,
   "metadata": {},
   "outputs": [],
   "source": [
    "import gc\n",
    "\n",
    "# dereference variables storage\n",
    "result = None\n",
    "crashes_df = None\n",
    "crashes2_df = None\n",
    "\n",
    "ret = gc.collect()"
   ]
  },
  {
   "cell_type": "code",
   "execution_count": null,
   "metadata": {},
   "outputs": [],
   "source": []
  }
 ],
 "metadata": {
  "kernelspec": {
   "display_name": "Python 3.7",
   "language": "python",
   "name": "python3"
  },
  "language_info": {
   "codemirror_mode": {
    "name": "ipython",
    "version": 3
   },
   "file_extension": ".py",
   "mimetype": "text/x-python",
   "name": "python",
   "nbconvert_exporter": "python",
   "pygments_lexer": "ipython3",
   "version": "3.7.9"
  }
 },
 "nbformat": 4,
 "nbformat_minor": 1
}
