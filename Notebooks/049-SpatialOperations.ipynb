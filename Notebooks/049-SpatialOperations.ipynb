{
 "cells": [
  {
   "cell_type": "markdown",
   "metadata": {
    "collapsed": true
   },
   "source": [
    "<IMG SRC=\"https://github.com/jacquesroy/byte-size-data-science/raw/master/images/Banner.png\" ALT=\"BSDS Banner\" WIDTH=1195 HEIGHT=200>"
   ]
  },
  {
   "cell_type": "markdown",
   "metadata": {},
   "source": [
    "<table align=\"left\">\n",
    "    <tr><td>\n",
    "<a rel=\"license\" href=\"http://creativecommons.org/licenses/by/4.0/\"><img alt=\"Creative Commons License\" style=\"border-width:0\" src=\"https://i.creativecommons.org/l/by/4.0/88x31.png\" /></a></td><td>This work is licensed under a <a rel=\"license\" href=\"http://creativecommons.org/licenses/by/4.0/\">Creative Commons Attribution 4.0 International License</a>.</td>\n",
    "    </tr>\n",
    "    <tr><td>Jacques Roy, Byte Size Data Science</td><td> </td></tr>\n",
    "    </table>"
   ]
  },
  {
   "cell_type": "markdown",
   "metadata": {},
   "source": [
    "# Spatial operations\n",
    "We can process geo-spatial information using geopandas.\n",
    "\n",
    "Geo-spatial data is complex and a lot can be done to manipulate it. "
   ]
  },
  {
   "cell_type": "markdown",
   "metadata": {},
   "source": [
    "### 049-Spatial Operations\n",
    "Execute the next cell if you want to see the `Byte Size Data Science` youtube channel video"
   ]
  },
  {
   "cell_type": "code",
   "execution_count": null,
   "metadata": {},
   "outputs": [],
   "source": [
    "from IPython.display import IFrame\n",
    "\n",
    "IFrame(src=\"https://www.youtube.com/embed/llns01gm0AM?rel=0&amp;controls=0&amp;showinfo=0\", width=560, height=315)\n"
   ]
  },
  {
   "cell_type": "code",
   "execution_count": null,
   "metadata": {},
   "outputs": [],
   "source": [
    "!pip install geopandas 2>&1 >pipgeopandas.txt\n",
    "import geopandas as gp"
   ]
  },
  {
   "cell_type": "code",
   "execution_count": null,
   "metadata": {},
   "outputs": [],
   "source": [
    "!pip install folium 2>&1 >foliumpip.out\n",
    "\n",
    "import folium"
   ]
  },
  {
   "cell_type": "code",
   "execution_count": null,
   "metadata": {},
   "outputs": [],
   "source": [
    "import pandas as pd\n",
    "import requests, zipfile, io"
   ]
  },
  {
   "cell_type": "markdown",
   "metadata": {},
   "source": [
    "## Get the list of states to find the code for Oregon"
   ]
  },
  {
   "cell_type": "code",
   "execution_count": null,
   "metadata": {},
   "outputs": [],
   "source": [
    "# States\n",
    "url = 'http://www2.census.gov/geo/docs/reference/state.txt'\n",
    "states_pd = pd.read_csv(url, sep='|')\n",
    "print (\"Number of states: \" + str(states_pd['STATE'].count()))\n",
    "states_pd[states_pd['STUSAB'] == 'OR']"
   ]
  },
  {
   "cell_type": "markdown",
   "metadata": {},
   "source": [
    "## Get the list of counties for Oregon"
   ]
  },
  {
   "cell_type": "code",
   "execution_count": null,
   "metadata": {},
   "outputs": [],
   "source": [
    "# Counties information\n",
    "zip_file='https://www2.census.gov/geo/tiger/TIGER2019/COUNTY/tl_2019_us_county.zip'\n",
    "r = requests.get(zip_file)\n",
    "z = zipfile.ZipFile(io.BytesIO(r.content))\n",
    "z.extractall()"
   ]
  },
  {
   "cell_type": "code",
   "execution_count": null,
   "metadata": {},
   "outputs": [],
   "source": [
    "gdf_counties = gp.read_file('tl_2019_us_county.dbf')\n",
    "print(\"Number of records: \" + str(gdf_counties['STATEFP'].count()))\n",
    "gdf_counties[gdf_counties['STATEFP'] == '41']"
   ]
  },
  {
   "cell_type": "markdown",
   "metadata": {},
   "source": [
    "# Display the Multnomah county on a map"
   ]
  },
  {
   "cell_type": "code",
   "execution_count": null,
   "metadata": {
    "scrolled": false
   },
   "outputs": [],
   "source": [
    "Multnomah_geom = gdf_counties.iloc[319].geometry\n",
    "centroid = Multnomah_geom.centroid\n",
    "latlong = [centroid.y, centroid.x]\n",
    "\n",
    "portland_map = folium.Map(location=[latlong[0], latlong[1]], zoom_start=10, width=\"80%\", height=\"80%\")\n",
    "\n",
    "folium.GeoJson(\n",
    "        Multnomah_geom,\n",
    "        name='Multnomah county',\n",
    "        tooltip='Multnomah county'\n",
    "    ).add_to(portland_map)\n",
    "folium.LayerControl().add_to(portland_map)\n",
    "portland_map"
   ]
  },
  {
   "cell_type": "markdown",
   "metadata": {},
   "source": [
    "## Get the road information for Multtnomah county"
   ]
  },
  {
   "cell_type": "code",
   "execution_count": null,
   "metadata": {},
   "outputs": [],
   "source": [
    "# Multnomah County, COUNTYFP: 051, STATE: 41\n",
    "# Roads information\n",
    "!rm tl_*\n",
    "zip_file='https://www2.census.gov/geo/tiger/TIGER2019/ROADS/tl_2019_41051_roads.zip'\n",
    "r = requests.get(zip_file)\n",
    "z = zipfile.ZipFile(io.BytesIO(r.content))\n",
    "z.extractall()"
   ]
  },
  {
   "cell_type": "code",
   "execution_count": null,
   "metadata": {},
   "outputs": [],
   "source": [
    "gdf_roads = gp.read_file('tl_2019_41051_roads.dbf')\n",
    "print(\"Number of records: \" + str(gdf_roads['LINEARID'].count()))\n",
    "# Remove the records that don't have a name\n",
    "gdf_roads = gdf_roads[gdf_roads['FULLNAME'].notna()]\n",
    "print(\"Number of records with road names: \" + str(gdf_roads['LINEARID'].count()))\n",
    "gdf_roads.head()"
   ]
  },
  {
   "cell_type": "markdown",
   "metadata": {},
   "source": [
    "## W Burnside Street"
   ]
  },
  {
   "cell_type": "code",
   "execution_count": null,
   "metadata": {},
   "outputs": [],
   "source": [
    "# Find W Burnside Street\n",
    "# This is where you can find Powell City of Books\n",
    "gdf_roads[gdf_roads['FULLNAME'].str.contains(\"^[Ww] [Bb]urnside St\")]"
   ]
  },
  {
   "cell_type": "code",
   "execution_count": null,
   "metadata": {},
   "outputs": [],
   "source": [
    "# shapely.geometry.linestring.LineString\n",
    "# See: https://shapely.readthedocs.io/en/stable/manual.html\n",
    "geom = gdf_roads.iloc[1137].geometry\n",
    "type(geom)"
   ]
  },
  {
   "cell_type": "markdown",
   "metadata": {},
   "source": [
    "## Extract some attributes"
   ]
  },
  {
   "cell_type": "code",
   "execution_count": null,
   "metadata": {},
   "outputs": [],
   "source": [
    "print(\"Type: \" + geom.geom_type)\n",
    "print(\"Length: \" + str(geom.length))\n",
    "print(\"Area: \" + str(geom.area))\n",
    "print(\"Bounds: \" + str(geom.bounds))\n",
    "print(\"Representative point: \" + str(geom.representative_point()))"
   ]
  },
  {
   "cell_type": "code",
   "execution_count": null,
   "metadata": {},
   "outputs": [],
   "source": [
    "# Bounding box\n",
    "print('Bounding box: ')\n",
    "print(geom.envelope)\n",
    "print(\"Envelope area: \" + str(geom.envelope.area))"
   ]
  },
  {
   "cell_type": "code",
   "execution_count": null,
   "metadata": {
    "scrolled": true
   },
   "outputs": [],
   "source": [
    "# Minimum rotated rectangle\n",
    "print('Minimum rotated rectangle: ')\n",
    "print(geom.minimum_rotated_rectangle)\n",
    "print('Minimum rotated rectangle area: ' + str(geom.minimum_rotated_rectangle.area))"
   ]
  },
  {
   "cell_type": "code",
   "execution_count": null,
   "metadata": {},
   "outputs": [],
   "source": [
    "# latlong = [45.5230969, -122.6813250] # Powell City of books\n",
    "latlong = [geom.representative_point().y, geom.representative_point().x]\n",
    "\n",
    "portland_map = folium.Map(location=[latlong[0], latlong[1]], zoom_start=15, width=\"95%\", height=\"95%\")\n",
    "\n",
    "folium.GeoJson(\n",
    "        geom.envelope,\n",
    "        name='Burnside street envelope',\n",
    "        tooltip='Burnside street envelope'\n",
    "    ).add_to(portland_map)\n",
    "folium.GeoJson(\n",
    "        geom.minimum_rotated_rectangle,\n",
    "        name='Burnside street minimum rectangle',\n",
    "        tooltip='Burnside street minimum rectangl'\n",
    "    ).add_to(portland_map)\n",
    "\n",
    "folium.LayerControl().add_to(portland_map)\n",
    "portland_map"
   ]
  },
  {
   "cell_type": "markdown",
   "metadata": {},
   "source": [
    "## Find intersections"
   ]
  },
  {
   "cell_type": "code",
   "execution_count": null,
   "metadata": {},
   "outputs": [],
   "source": [
    "xxx = gdf_roads[gdf_roads['geometry'].intersects(geom)]\n",
    "print(\"Number of records: \" + str(xxx['LINEARID'].count()))\n",
    "xxx.head()"
   ]
  },
  {
   "cell_type": "markdown",
   "metadata": {},
   "source": [
    "## Intersects vs. crosses"
   ]
  },
  {
   "cell_type": "code",
   "execution_count": null,
   "metadata": {},
   "outputs": [],
   "source": [
    "xxx = gdf_roads[gdf_roads['geometry'].crosses(geom)]\n",
    "print(\"Number of records: \" + str(xxx['LINEARID'].count()))\n",
    "xxx.head()"
   ]
  },
  {
   "cell_type": "code",
   "execution_count": null,
   "metadata": {},
   "outputs": [],
   "source": []
  }
 ],
 "metadata": {
  "kernelspec": {
   "display_name": "Python 3.7",
   "language": "python",
   "name": "python3"
  },
  "language_info": {
   "codemirror_mode": {
    "name": "ipython",
    "version": 3
   },
   "file_extension": ".py",
   "mimetype": "text/x-python",
   "name": "python",
   "nbconvert_exporter": "python",
   "pygments_lexer": "ipython3",
   "version": "3.7.9"
  }
 },
 "nbformat": 4,
 "nbformat_minor": 1
}
