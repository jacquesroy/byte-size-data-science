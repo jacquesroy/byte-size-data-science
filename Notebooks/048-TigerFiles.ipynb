{
 "cells": [
  {
   "cell_type": "markdown",
   "metadata": {
    "collapsed": true
   },
   "source": [
    "<IMG SRC=\"https://github.com/jacquesroy/byte-size-data-science/raw/master/images/Banner.png\" ALT=\"BSDS Banner\" WIDTH=1195 HEIGHT=200>"
   ]
  },
  {
   "cell_type": "markdown",
   "metadata": {},
   "source": [
    "<table align=\"left\">\n",
    "    <tr><td>\n",
    "<a rel=\"license\" href=\"http://creativecommons.org/licenses/by/4.0/\"><img alt=\"Creative Commons License\" style=\"border-width:0\" src=\"https://i.creativecommons.org/l/by/4.0/88x31.png\" /></a></td><td>This work is licensed under a <a rel=\"license\" href=\"http://creativecommons.org/licenses/by/4.0/\">Creative Commons Attribution 4.0 International License</a>.</td>\n",
    "    </tr>\n",
    "    <tr><td>Jacques Roy, Byte Size Data Science</td><td> </td></tr>\n",
    "    </table>"
   ]
  },
  {
   "cell_type": "markdown",
   "metadata": {},
   "source": [
    "# Tiger Files\n",
    "**TIGER**: Topologically Integrated Geographic Encoding and Referencing\n",
    "\n",
    "The TIGER/Line Shapefiles contain a standard geographic identifier for each entity that links to the geographic identifier in the data from censuses and surveys.\n",
    "\n",
    "Technical documentation: https://www2.census.gov/geo/pdfs/maps-data/data/tiger/tgrshp2019/TGRSHP2019_TechDoc.pdf\n",
    "\n",
    "https://www.census.gov/programs-surveys/geography/guidance/tiger-data-products-guide.html\n",
    "\n",
    "| Product | Best for... |  \n",
    "| :-- | :-- |\n",
    "| <a href=\"https://www.census.gov/geographies/mapping-files/time-series/geo/tiger-line-file.html\">TIGER/Line Shapefiles</a> | Most mapping projects--this is our most comprehensive dataset. Designed for use with GIS (geographic information systems). | \n",
    "| <a href=\"https://www.census.gov/geographies/mapping-files/time-series/geo/tiger-geodatabase-file.html\">TIGER Geodatabases</a> | Useful for users needing national datasets or all major boundaries by state. Designed for use in ArcGIS. Files are extremely large. |\n",
    "| <a href=\"https://www.census.gov/geographies/mapping-files/time-series/geo/tiger-data.html\">TIGER/Line with Selected Demographic and Economic Data</a> | Data from selected attributes from the 2010 Census, 2006-2010 through 2012-2016 ACS 5-year estimates and County Business Patterns (CBP) for selected geographies. Designed for use with GIS. |\n",
    "| <a href=\"https://www.census.gov/geographies/mapping-files/time-series/geo/carto-boundary-file.html\">Cartographic Boundary Shapefiles</a> | Small scale (limited detail) mapping projects clipped to shoreline. Designed for thematic mapping using GIS. |\n"
   ]
  },
  {
   "cell_type": "markdown",
   "metadata": {},
   "source": [
    "### 048-Tiger Files\n",
    "Execute the next cell if you want to see the `Byte Size Data Science` youtube channel video"
   ]
  },
  {
   "cell_type": "code",
   "execution_count": null,
   "metadata": {},
   "outputs": [],
   "source": [
    "from IPython.display import IFrame\n",
    "\n",
    "IFrame(src=\"https://www.youtube.com/embed/d0-vTCWe0jk?rel=0&amp;controls=0&amp;showinfo=0\", width=560, height=315)\n"
   ]
  },
  {
   "cell_type": "markdown",
   "metadata": {},
   "source": [
    "## File format\n",
    "- Naming convention: tl_yyyy_`extend`_`layer`.ext<br/>\n",
    "    extend: nation (us), state, or county -based\n",
    "\n",
    "## Layer examples\n",
    "There are 43 different layers available. You can see a list on page 12 (page 2-5, table 1) of the <a href=\"https://www2.census.gov/geo/pdfs/maps-data/data/tiger/tgrshp2019/TGRSHP2019_TechDoc.pdf\">technical documentation</a>\n",
    "\n",
    "Here are some examples:\n",
    "\n",
    "| Layer | Nation | State | County | Name example | \n",
    "| -- | -- | -- | -- | -- | \n",
    "| Address Range-Feature | - | - | X | tl_2019_&lt;state-countyFIPS&gt;_addrfeat.shp |\n",
    "| All Roads | - | - | X | tl_2019_&lt;state-countyFIPS&gt;_roads.shp |\n",
    "|Coastline | X | - | - | tl_2019_us_coastline.shp |\n",
    "| County and Equivalent | X | - | - | tl_2019_us_county.shp |\n",
    "| Place | - | X | - | tl_2019_&lt;stateFIPS&gt;_place.shp |\n",
    "| State and Equivalent | X | - | - | tl_2019_us_state.shp |\n",
    "|ZIP Code Tabulation Area | X | - | - | tl_2019_us_zcta510.shp |"
   ]
  },
  {
   "cell_type": "code",
   "execution_count": null,
   "metadata": {},
   "outputs": [],
   "source": [
    "!pip install geopandas 2>&1 >pipgeopandas.txt\n",
    "import geopandas as gp"
   ]
  },
  {
   "cell_type": "code",
   "execution_count": null,
   "metadata": {},
   "outputs": [],
   "source": [
    "import pandas as pd\n",
    "import requests, zipfile, io"
   ]
  },
  {
   "cell_type": "markdown",
   "metadata": {},
   "source": [
    "## Tiger subdirectories\n",
    "Each layer is stored in a different subdirectory.<br/>\n",
    "The directory names are shorter nmaes for the layers. The documentation has a table on page 93 that lists the directory nmaes and the layer names."
   ]
  },
  {
   "cell_type": "code",
   "execution_count": null,
   "metadata": {},
   "outputs": [],
   "source": [
    "# List the directory names\n",
    "from ftplib import FTP\n",
    "\n",
    "addr = \"ftp2.census.gov\"\n",
    "targer_dir = 'geo/tiger/TIGER2019'\n",
    "\n",
    "ftp = FTP(addr)\n",
    "ret = ftp.login(\"anonymous\", \"ftplib-example-1\")\n",
    "\n",
    "ret = ftp.login(\"anonymous\", \"ftplib-example-1\")\n",
    "ftp.cwd(targer_dir)\n",
    "data = []\n",
    "\n",
    "ftp.dir(data.append)\n",
    "ftp.quit()\n",
    "\n",
    "res = \"\"\n",
    "for line in data:\n",
    "    res=res + (line.split()[8]) + \", \"\n",
    "print(res)"
   ]
  },
  {
   "cell_type": "markdown",
   "metadata": {},
   "source": [
    "## Reference files\n",
    "Some data files are divided by **state** and or **county**.<br/>\n",
    "There are some reference files that are useful as we see below.<br/>\n",
    "They can be found in https://www2.census.gov/geo/docs/reference and its sub-directories.\n",
    "\n",
    "The county file (`county_adjacent.txt`) is not in a format that is easy to read. It will make more sense to simply read the county shape file instead. There is another file listing countines in the `code` sub-directory (`national_county.txt`) but it does not contain all the information we need."
   ]
  },
  {
   "cell_type": "code",
   "execution_count": null,
   "metadata": {},
   "outputs": [],
   "source": [
    "# States\n",
    "url = 'http://www2.census.gov/geo/docs/reference/state.txt'\n",
    "states_pd = pd.read_csv(url, sep='|')\n",
    "print (\"Number of states: \" + str(states_pd['STATE'].count()))\n",
    "states_pd.head()"
   ]
  },
  {
   "cell_type": "code",
   "execution_count": null,
   "metadata": {},
   "outputs": [],
   "source": [
    "# Counties: This file does not contain the codes we want\n",
    "url = 'https://www2.census.gov/geo/docs/reference/codes/national_county.txt'\n",
    "counties_pd = pd.read_csv(url, sep=',')\n",
    "print (\"Number of counties: \" + str(counties_pd['State'].count()))\n",
    "\n",
    "counties_pd.head()"
   ]
  },
  {
   "cell_type": "markdown",
   "metadata": {},
   "source": [
    "## Counties\n",
    "The Counties information is contained at the US level. This means that the subdiretory `COUNTY` will have only one file that follows the naming convention:`tl_2019_us_county`. Since shape files are actually multiple files, the file to download is a zip file: `tl_2019_us_county.zip`"
   ]
  },
  {
   "cell_type": "code",
   "execution_count": null,
   "metadata": {},
   "outputs": [],
   "source": [
    "# Landmarks in Illinois\n",
    "zip_file='https://www2.census.gov/geo/tiger/TIGER2019/COUNTY/tl_2019_us_county.zip'\n",
    "r = requests.get(zip_file)\n",
    "z = zipfile.ZipFile(io.BytesIO(r.content))\n",
    "z.extractall()\n",
    "!ls "
   ]
  },
  {
   "cell_type": "code",
   "execution_count": null,
   "metadata": {},
   "outputs": [],
   "source": [
    "# Project file providing the reference system\n",
    "!cat tl_2019_us_county.prj"
   ]
  },
  {
   "cell_type": "code",
   "execution_count": null,
   "metadata": {},
   "outputs": [],
   "source": [
    "gdf_counties = gp.read_file('tl_2019_us_county.dbf')\n",
    "print(\"Number of records: \" + str(gdf_counties['STATEFP'].count()))\n",
    "gdf_counties.head()"
   ]
  },
  {
   "cell_type": "markdown",
   "metadata": {},
   "source": [
    "## Place example\n",
    "The `PLACE` layer is divided in files by state.<br/>\n",
    "By using the state information above, we find that `Oregon` is 41, `Colorado` is 8 and `Illinois` is 17."
   ]
  },
  {
   "cell_type": "code",
   "execution_count": null,
   "metadata": {},
   "outputs": [],
   "source": [
    "# Display all the available files\n",
    "addr = \"ftp2.census.gov\"\n",
    "target_dir = 'geo/tiger/TIGER2019/PLACE'\n",
    "\n",
    "ftp = FTP(addr)\n",
    "ret = ftp.login(\"anonymous\", \"ftplib-example-1\")\n",
    "\n",
    "ftp.cwd(target_dir)\n",
    "data = []\n",
    "\n",
    "ftp.dir(data.append)\n",
    "ftp.quit()\n",
    "\n",
    "res = \"\"\n",
    "for line in data:\n",
    "    res=res + (line.split()[8]) + \", \"\n",
    "print(res)"
   ]
  },
  {
   "cell_type": "code",
   "execution_count": null,
   "metadata": {},
   "outputs": [],
   "source": [
    "print(states_pd['STATE'].values)\n",
    "print(\"Missing 'STATE': \" + states_pd[states_pd['STATE']==74]['STATE_NAME'].values)"
   ]
  },
  {
   "cell_type": "code",
   "execution_count": null,
   "metadata": {},
   "outputs": [],
   "source": [
    "# places in Illinois\n",
    "!rm tl*\n",
    "zip_file='https://www2.census.gov/geo/tiger/TIGER2019/PLACE/tl_2019_17_place.zip'\n",
    "r = requests.get(zip_file)\n",
    "z = zipfile.ZipFile(io.BytesIO(r.content))\n",
    "z.extractall()\n",
    "!ls "
   ]
  },
  {
   "cell_type": "code",
   "execution_count": null,
   "metadata": {},
   "outputs": [],
   "source": [
    "gdf_places = gp.read_file('tl_2019_17_place.shp')\n",
    "print(\"Number of records: \" + str(gdf_places['STATEFP'].count()))\n",
    "gdf_places.head()"
   ]
  },
  {
   "cell_type": "markdown",
   "metadata": {},
   "source": [
    "## CLASSFP and LSAD\n",
    "- Class code list (CLASSFP): https://www.census.gov/library/reference/code-lists/class-codes.html\n",
    "- LSA Description (LSAD) : https://www.census.gov/library/reference/code-lists/legal-status-codes.html\n",
    "\n",
    "### CLASSFP\n",
    "- C1: An active incorporated place that does not serve as a county subdivision equivalent\n",
    "- C5: An active incorporated place that is independent of any county subdivision and serves as a county subdivision equivalent\n",
    "- M2: A military or other defense installation entirely within a place\n",
    "- U1: A census designated place with an official federally recognized name\n",
    "- U2: A census designated place without an official federally recognized name\n",
    "\n",
    "### LSAD\n",
    "- 25: Consolidated City, County or Equivalent Feature, County Subdivision, Economic Census Place, Incorporated Place\n",
    "- 46: County Subdivision\n",
    "- 47: County Subdivision, Economic Census Place, Incorporated Place\n",
    "- 57: Census Designated Place, Economic Census Place"
   ]
  },
  {
   "cell_type": "code",
   "execution_count": null,
   "metadata": {},
   "outputs": [],
   "source": [
    "# Count of object types\n",
    "print(gdf_places.groupby('CLASSFP')['PLACEFP'].nunique())\n",
    "print(gdf_places.groupby('LSAD')['PLACEFP'].nunique())"
   ]
  },
  {
   "cell_type": "code",
   "execution_count": null,
   "metadata": {},
   "outputs": [],
   "source": [
    "# Need to convert long/lat from strings to floats\n",
    "gdf_places['INTPTLAT'] = gdf_places['INTPTLAT'].astype(float)\n",
    "gdf_places['INTPTLON'] = gdf_places['INTPTLON'].astype(float)\n",
    "gdf_places.dtypes"
   ]
  },
  {
   "cell_type": "code",
   "execution_count": null,
   "metadata": {},
   "outputs": [],
   "source": [
    "# List places that intersect with the bounding box around Chicago\n",
    "# Find objects within a bounding box\n",
    "geom = gdf_places[gdf_places['NAME']=='Chicago']['geometry'].reset_index().iloc[0]['geometry']\n",
    "chi_gdf = gdf_places[gdf_places['geometry'].intersects(geom.envelope)]\n",
    "print(\"Number of records: \" + str(chi_gdf['STATEFP'].count()))\n",
    "chi_gdf.head()"
   ]
  },
  {
   "cell_type": "markdown",
   "metadata": {},
   "source": [
    "## Display objects on a map"
   ]
  },
  {
   "cell_type": "code",
   "execution_count": null,
   "metadata": {},
   "outputs": [],
   "source": [
    "!pip install folium 2>&1 >foliumpip.out\n",
    "\n",
    "import folium"
   ]
  },
  {
   "cell_type": "code",
   "execution_count": null,
   "metadata": {
    "scrolled": false
   },
   "outputs": [],
   "source": [
    "latlong = chi_gdf[['INTPTLAT', 'INTPTLON']].mean()\n",
    "chi_map = folium.Map(location=[latlong[0], latlong[1]], zoom_start=10, width=\"80%\", height=\"80%\")\n",
    "\n",
    "geom2 = chi_gdf[chi_gdf['NAME']=='Chicago'].reset_index()\n",
    "folium.GeoJson(\n",
    "        geom2.iloc[0]['geometry'].envelope,\n",
    "        name='Bounding box',\n",
    "        tooltip='Bounding box'\n",
    "    ).add_to(chi_map)\n",
    "\n",
    "folium.GeoJson(\n",
    "        geom2.iloc[0]['geometry'],\n",
    "        name=geom2.iloc[0]['NAME'],\n",
    "        tooltip=geom2.iloc[0]['NAME']\n",
    "    ).add_to(chi_map)\n",
    "\n",
    "\n",
    "# Add the long lat point for each city\n",
    "for ix in range(chi_gdf['NAME'].count()) :\n",
    "        folium.CircleMarker(\n",
    "            [chi_gdf.iloc[ix]['INTPTLAT'].item(), chi_gdf.iloc[ix]['INTPTLON'].item()],\n",
    "            radius=5, # define how big you want the circle markers to be\n",
    "            color='yellow',\n",
    "            fill=True,\n",
    "            fill_color='blue',\n",
    "            tooltip=chi_gdf.iloc[ix]['NAME'] + \" ctr\",\n",
    "            fill_opacity=0.6\n",
    "        ).add_to(chi_map)\n",
    "\n",
    "folium.LayerControl().add_to(chi_map)\n",
    "chi_map"
   ]
  },
  {
   "cell_type": "code",
   "execution_count": null,
   "metadata": {},
   "outputs": [],
   "source": []
  }
 ],
 "metadata": {
  "kernelspec": {
   "display_name": "Python 3.7",
   "language": "python",
   "name": "python3"
  },
  "language_info": {
   "codemirror_mode": {
    "name": "ipython",
    "version": 3
   },
   "file_extension": ".py",
   "mimetype": "text/x-python",
   "name": "python",
   "nbconvert_exporter": "python",
   "pygments_lexer": "ipython3",
   "version": "3.7.9"
  }
 },
 "nbformat": 4,
 "nbformat_minor": 1
}
