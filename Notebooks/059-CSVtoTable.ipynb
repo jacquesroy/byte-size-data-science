{
 "cells": [
  {
   "cell_type": "markdown",
   "metadata": {
    "collapsed": true
   },
   "source": [
    "<IMG SRC=\"https://github.com/jacquesroy/byte-size-data-science/raw/master/images/Banner.png\" ALT=\"BSDS Banner\" WIDTH=1195 HEIGHT=200>"
   ]
  },
  {
   "cell_type": "markdown",
   "metadata": {},
   "source": [
    "<table align=\"left\">\n",
    "    <tr><td>\n",
    "<a rel=\"license\" href=\"http://creativecommons.org/licenses/by/4.0/\"><img alt=\"Creative Commons License\" style=\"border-width:0\" src=\"https://i.creativecommons.org/l/by/4.0/88x31.png\" /></a></td><td>This work is licensed under a <a rel=\"license\" href=\"http://creativecommons.org/licenses/by/4.0/\">Creative Commons Attribution 4.0 International License</a>.</td>\n",
    "    </tr>\n",
    "    <tr><td>Jacques Roy, Byte Size Data Science</td><td> </td></tr>\n",
    "    </table>"
   ]
  },
  {
   "cell_type": "markdown",
   "metadata": {},
   "source": [
    "# Generating table definition from csv\n",
    "There is a lot of available data in open government (see videos 19,20) but most of it is in CSWV format with a variable level of documentation.\n",
    "This notebook shows a quick way to generate a basic table definition from a CSV file.\n",
    "\n",
    "Once the basic table definition is generated, it can be adjusted for data types, primary key, indexes and so on.\n",
    "\n",
    "This is particularly advantageous when you have CSV files with a large number of columns."
   ]
  },
  {
   "cell_type": "code",
   "execution_count": null,
   "metadata": {},
   "outputs": [],
   "source": [
    "from IPython.display import IFrame\n",
    "\n",
    "IFrame(src=\"https://www.youtube.com/embed/CU4nS9Z8TDE?rel=0&amp;controls=0&amp;showinfo=0\", width=560, height=315)"
   ]
  },
  {
   "cell_type": "markdown",
   "metadata": {},
   "source": [
    "## Import the appropriate libraries and set up needed connections"
   ]
  },
  {
   "cell_type": "code",
   "execution_count": null,
   "metadata": {},
   "outputs": [],
   "source": [
    "import pandas as pd\n",
    "import numpy as np\n",
    "import seaborn as sns\n",
    "import ibm_db\n",
    "import ibm_db_dbi\n",
    "\n",
    "from ftplib import FTP\n",
    "import requests, zipfile, io"
   ]
  },
  {
   "cell_type": "code",
   "execution_count": null,
   "metadata": {},
   "outputs": [],
   "source": [
    "credentials = {\n",
    "    'username': 'bluadmin',\n",
    "    'password': \"\"\"PASSWORD\"\"\",\n",
    "    'sg_service_url': 'https://sgmanager.ng.bluemix.net',\n",
    "    'database': 'BLUDB',\n",
    "    'host': 'dashdb. . . .bluemix.net',\n",
    "    'port': '50001',\n",
    "    'url': 'https://undefined'\n",
    "}\n"
   ]
  },
  {
   "cell_type": "code",
   "execution_count": null,
   "metadata": {},
   "outputs": [],
   "source": [
    "dsn = (\n",
    "    \"DRIVER={{IBM DB2 ODBC DRIVER}};\"\n",
    "    \"DATABASE={0};\"\n",
    "    \"HOSTNAME={1};\"\n",
    "    \"PORT={2};\"\n",
    "    \"PROTOCOL=TCPIP;\"\n",
    "    \"SECURITY=ssl;\"\n",
    "    \"UID={3};\"\n",
    "    \"PWD={4};\").format(credentials['database'], credentials['host'],\n",
    "                       credentials['port'], credentials['username'],\n",
    "                       credentials['password'])\n",
    "\n",
    "conn = ibm_db.connect(dsn, \"\", \"\")\n",
    "pconn = ibm_db_dbi.Connection(conn)"
   ]
  },
  {
   "cell_type": "code",
   "execution_count": null,
   "metadata": {},
   "outputs": [],
   "source": [
    "# Try the connection\n",
    "sql = \"\"\"\n",
    "  SELECT count(*)\n",
    "  FROM SYSIBM.SYSTABLES ;\n",
    "\"\"\"\n",
    "\n",
    "data_pd = pd.read_sql(sql, pconn)\n",
    "data_pd.head(5)"
   ]
  },
  {
   "cell_type": "markdown",
   "metadata": {},
   "source": [
    "## Chicago accident data\n",
    "We saw this dataset in videos 17, 18, and 32.\n",
    "\n",
    "We have 221,600 records in this dataset."
   ]
  },
  {
   "cell_type": "code",
   "execution_count": null,
   "metadata": {},
   "outputs": [],
   "source": [
    "url = 'https://github.com/jacquesroy/byte-size-data-science/raw/master/data/ChicagoTrafficCrashes20180917.csv.zip'\n",
    "r = requests.get(url)\n",
    "z = zipfile.ZipFile(io.BytesIO(r.content))\n",
    "z.extractall()\n",
    "filename = url.rsplit('/', 1)[-1].rsplit('.', 1)[0]\n",
    "\n",
    "# To limit the number of records, use the \"nrows\" parameter\n",
    "collisions_pd = pd.read_csv(filename)\n",
    "\n",
    "print(\"Number of records: {}\".format(collisions_pd.shape[0]))\n",
    "collisions_pd.head(2)"
   ]
  },
  {
   "cell_type": "code",
   "execution_count": null,
   "metadata": {},
   "outputs": [],
   "source": [
    "# Convert the two datetime columns to the proper type\n",
    "collisions_pd['CRASH_DATE'] = \\\n",
    "           collisions_pd['CRASH_DATE'].apply(pd.to_datetime, infer_datetime_format=True, errors='coerce')\n",
    "collisions_pd['DATE_POLICE_NOTIFIED'] = \\\n",
    "           collisions_pd['DATE_POLICE_NOTIFIED'].apply(pd.to_datetime, infer_datetime_format=True, errors='coerce')"
   ]
  },
  {
   "cell_type": "code",
   "execution_count": null,
   "metadata": {},
   "outputs": [],
   "source": [
    "collisions_pd.dtypes"
   ]
  },
  {
   "cell_type": "markdown",
   "metadata": {},
   "source": [
    "### Dictionary for mapping"
   ]
  },
  {
   "cell_type": "code",
   "execution_count": null,
   "metadata": {},
   "outputs": [],
   "source": [
    "toDBtype = {'object': 'VARCHAR','int8': 'SMALLINT', 'int16': 'SMALLINT', 'int32': 'INTEGER', 'int64': 'BIGINT', \n",
    "            'float32': 'REAL', 'float64': 'DOUBLE', 'geometry': 'DB2GSE.ST_Geometry', 'datetime64[ns]': 'TIMESTAMP'}"
   ]
  },
  {
   "cell_type": "markdown",
   "metadata": {},
   "source": [
    "### Generate a dataframe of column names, data type and field length\n",
    "The relevant field lengths are only for character fields (object)"
   ]
  },
  {
   "cell_type": "code",
   "execution_count": null,
   "metadata": {},
   "outputs": [],
   "source": [
    "measurer = np.vectorize(len)\n",
    "\n",
    "column_info_pd = collisions_pd.dtypes.reset_index()\n",
    "column_info_pd.columns = ['Name', 'ColType']\n",
    "column_info_pd['Length'] = 0\n",
    "column_info_pd['Length'].loc[column_info_pd['ColType'] == 'object'] = \\\n",
    "            measurer(collisions_pd.select_dtypes(np.object).astype(str)).max(axis=0)\n",
    "column_info_pd.head(10)"
   ]
  },
  {
   "cell_type": "markdown",
   "metadata": {},
   "source": [
    "### Generate a table definition\n",
    "We may need to adjust some data types but at least we have a starting point and the character fields have the proper maximum size."
   ]
  },
  {
   "cell_type": "code",
   "execution_count": null,
   "metadata": {},
   "outputs": [],
   "source": [
    "comma = \",\"\n",
    "print('CREATE TABLE ChicagoAccidents (')\n",
    "for ix in range(len(column_info_pd)) :\n",
    "    if (ix == column_info_pd.shape[0] - 1) :\n",
    "        comma = \" \"\n",
    "    if (column_info_pd.iloc[ix]['ColType'].name != 'object') :\n",
    "        print(\"  {0:30} {1}{2}\".format(column_info_pd.iloc[ix]['Name'], \\\n",
    "                                       toDBtype[column_info_pd.iloc[ix]['ColType'].name],comma))\n",
    "    elif column_info_pd.iloc[ix]['Length'] > 4 :\n",
    "        print(\"  {0:30} {1}({2}){3}\".format(column_info_pd.iloc[ix]['Name'], \\\n",
    "                                            toDBtype[column_info_pd.iloc[ix]['ColType'].name], \\\n",
    "                                            column_info_pd.iloc[ix]['Length'],comma))\n",
    "    else :\n",
    "        print(\"  {0:30} CHAR({1}){2}\".format(column_info_pd.iloc[ix]['Name'], \\\n",
    "                                             column_info_pd.iloc[ix]['Length'],comma))\n",
    "print(') ORGANIZE BY ROW;')"
   ]
  },
  {
   "cell_type": "markdown",
   "metadata": {},
   "source": [
    "### Create the table using the database connection"
   ]
  },
  {
   "cell_type": "code",
   "execution_count": null,
   "metadata": {},
   "outputs": [],
   "source": [
    "table_def = \"\"\"\n",
    "CREATE TABLE jroy.ChicagoAccidents (\n",
    "  RD_NO                          VARCHAR(8) NOT NULL PRIMARY KEY,\n",
    "  CRASH_DATE_EST_I               CHAR(3),\n",
    "  CRASH_DATE                     TIMESTAMP,\n",
    "  POSTED_SPEED_LIMIT             BIGINT,\n",
    "  TRAFFIC_CONTROL_DEVICE         VARCHAR(23),\n",
    "  DEVICE_CONDITION               VARCHAR(24),\n",
    "  WEATHER_CONDITION              VARCHAR(22),\n",
    "  LIGHTING_CONDITION             VARCHAR(22),\n",
    "  FIRST_CRASH_TYPE               VARCHAR(28),\n",
    "  TRAFFICWAY_TYPE                VARCHAR(31),\n",
    "  LANE_CNT                       DOUBLE,\n",
    "  ALIGNMENT                      VARCHAR(21),\n",
    "  ROADWAY_SURFACE_COND           VARCHAR(15),\n",
    "  ROAD_DEFECT                    VARCHAR(17),\n",
    "  REPORT_TYPE                    VARCHAR(26),\n",
    "  CRASH_TYPE                     VARCHAR(32),\n",
    "  INTERSECTION_RELATED_I         CHAR(3),\n",
    "  NOT_RIGHT_OF_WAY_I             CHAR(3),\n",
    "  HIT_AND_RUN_I                  CHAR(3),\n",
    "  DAMAGE                         VARCHAR(13),\n",
    "  DATE_POLICE_NOTIFIED           TIMESTAMP,\n",
    "  PRIM_CONTRIBUTORY_CAUSE        VARCHAR(80),\n",
    "  SEC_CONTRIBUTORY_CAUSE         VARCHAR(80),\n",
    "  STREET_NO                      BIGINT,\n",
    "  STREET_DIRECTION               CHAR(3),\n",
    "  STREET_NAME                    VARCHAR(31),\n",
    "  BEAT_OF_OCCURRENCE             DOUBLE,\n",
    "  PHOTOS_TAKEN_I                 CHAR(3),\n",
    "  STATEMENTS_TAKEN_I             CHAR(3),\n",
    "  DOORING_I                      CHAR(3),\n",
    "  WORK_ZONE_I                    CHAR(3),\n",
    "  WORK_ZONE_TYPE                 VARCHAR(12),\n",
    "  WORKERS_PRESENT_I              CHAR(3),\n",
    "  NUM_UNITS                      DOUBLE,\n",
    "  MOST_SEVERE_INJURY             VARCHAR(24),\n",
    "  INJURIES_TOTAL                 DOUBLE,\n",
    "  INJURIES_FATAL                 DOUBLE,\n",
    "  INJURIES_INCAPACITATING        DOUBLE,\n",
    "  INJURIES_NON_INCAPACITATING    DOUBLE,\n",
    "  INJURIES_REPORTED_NOT_EVIDENT  DOUBLE,\n",
    "  INJURIES_NO_INDICATION         DOUBLE,\n",
    "  INJURIES_UNKNOWN               DOUBLE,\n",
    "  CRASH_HOUR                     BIGINT,\n",
    "  CRASH_DAY_OF_WEEK              BIGINT,\n",
    "  CRASH_MONTH                    BIGINT,\n",
    "  LATITUDE                       DOUBLE,\n",
    "  LONGITUDE                      DOUBLE,\n",
    "  LOCATION                       DB2GSE.ST_Point \n",
    ") ORGANIZE BY ROW;\n",
    "\"\"\"\n",
    "cur = pconn.cursor()\n",
    "cur.execute(table_def)\n"
   ]
  },
  {
   "cell_type": "code",
   "execution_count": null,
   "metadata": {},
   "outputs": [],
   "source": [
    "# Check two columns to make sure the create table worked\n",
    "pconn.columns(schema_name=\"jroy\", table_name=\"ChicagoAccidents\", column_names=[\"RD_NO\",\"CRASH_DATE\"])"
   ]
  },
  {
   "cell_type": "markdown",
   "metadata": {},
   "source": [
    "### Insert rows\n",
    "Since I already have the data, might as well write it to the database.\n",
    "\n",
    "For demo purposes, insert only 10 rows."
   ]
  },
  {
   "cell_type": "code",
   "execution_count": null,
   "metadata": {},
   "outputs": [],
   "source": [
    "rows_pd = collisions_pd.iloc[0:10]\n",
    "print(\"row shape: {0}\".format(rows_pd.shape))\n",
    "rows_pd.iloc[0].values"
   ]
  },
  {
   "cell_type": "code",
   "execution_count": null,
   "metadata": {},
   "outputs": [],
   "source": [
    "insert_stmt = \"\"\"\n",
    "INSERT INTO jroy.ChicagoAccidents\n",
    "  VALUES(\n",
    "\"\"\"\n",
    "insert_stmt = insert_stmt + (\"?,\" * (rows_pd.shape[1] - 1)) + \"?);\"\n",
    "print(insert_stmt)"
   ]
  },
  {
   "cell_type": "code",
   "execution_count": null,
   "metadata": {},
   "outputs": [],
   "source": [
    "### I need to see how to use a prepared statement to speedup the insert. ###\n",
    "\n",
    "insert_stmt = \"\"\"\n",
    "INSERT INTO jroy.ChicagoAccidents\n",
    "  VALUES(\n",
    "?,?,?,?,?,?,?,?,?,?,?,?,?,?,?,?,?,?,?,?,?,?,?,?,?,?,?,?,?,?,?,?,?,?,?,?,?,?,?,?,?,?,?,?,?,?,?,\n",
    "DB2GSE.ST_PointFromText(?, 4269) );\n",
    "\"\"\"\n",
    "\n",
    "cur = pconn.cursor()\n",
    "errors = 0\n",
    "for row in rows_pd.iterrows() :\n",
    "    try :\n",
    "        cur.execute(insert_stmt, tuple(row[1]) )\n",
    "    except Exception as e:\n",
    "        errors = errors + 1\n",
    "        # print(\"Error on: {0}\".format(row[1]['RD_NO']))\n",
    "        # print(e)\n",
    "cur.close()\n",
    "print(\"Rejected records: {0}\".format(errors))"
   ]
  },
  {
   "cell_type": "code",
   "execution_count": null,
   "metadata": {},
   "outputs": [],
   "source": [
    "# Try the connection\n",
    "sql = \"\"\"\n",
    "  SELECT *\n",
    "  FROM jroy.ChicagoAccidents ;\n",
    "\"\"\"\n",
    "\n",
    "data_pd = pd.read_sql(sql, pconn)\n",
    "data_pd.head()"
   ]
  },
  {
   "cell_type": "code",
   "execution_count": null,
   "metadata": {},
   "outputs": [],
   "source": []
  }
 ],
 "metadata": {
  "kernelspec": {
   "display_name": "Python 3.7",
   "language": "python",
   "name": "python3"
  },
  "language_info": {
   "codemirror_mode": {
    "name": "ipython",
    "version": 3
   },
   "file_extension": ".py",
   "mimetype": "text/x-python",
   "name": "python",
   "nbconvert_exporter": "python",
   "pygments_lexer": "ipython3",
   "version": "3.7.9"
  }
 },
 "nbformat": 4,
 "nbformat_minor": 1
}
