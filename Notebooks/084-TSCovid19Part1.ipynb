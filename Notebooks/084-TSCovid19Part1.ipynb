{
 "cells": [
  {
   "cell_type": "markdown",
   "metadata": {
    "collapsed": true
   },
   "source": [
    "<IMG SRC=\"https://github.com/jacquesroy/byte-size-data-science/raw/master/images/Banner.png\" ALT=\"BSDS Banner\" WIDTH=1195 HEIGHT=200>"
   ]
  },
  {
   "cell_type": "markdown",
   "metadata": {},
   "source": [
    "<table align=\"left\">\n",
    "    <tr><td>\n",
    "<a rel=\"license\" href=\"http://creativecommons.org/licenses/by/4.0/\"><img alt=\"Creative Commons License\" style=\"border-width:0\" src=\"https://i.creativecommons.org/l/by/4.0/88x31.png\" /></a></td><td>This work is licensed under a <a rel=\"license\" href=\"http://creativecommons.org/licenses/by/4.0/\">Creative Commons Attribution 4.0 International License</a>.</td>\n",
    "    </tr>\n",
    "    <tr><td>Jacques Roy, Byte Size Data Science</td><td> </td></tr>\n",
    "    </table>"
   ]
  },
  {
   "cell_type": "markdown",
   "metadata": {},
   "source": [
    "# Time Series with Covid Data"
   ]
  },
  {
   "cell_type": "code",
   "execution_count": null,
   "metadata": {},
   "outputs": [],
   "source": [
    "# youtube video related to this notebook\n",
    "from IPython.display import IFrame\n",
    "\n",
    "IFrame(src=\"https://www.youtube.com/embed/awC9-O_evAo?rel=0&amp;controls=0&amp;showinfo=0\", width=560, height=315)"
   ]
  },
  {
   "cell_type": "code",
   "execution_count": null,
   "metadata": {},
   "outputs": [],
   "source": [
    "# Libraries needed in the notebook\n",
    "import requests, json\n",
    "import pandas as pd\n",
    "import numpy as np\n",
    "import datetime as dt\n",
    "import dateutil.parser\n",
    "from io import StringIO\n",
    "import math\n",
    "\n",
    "# pd.set_option('display.max_colwidth', -1)\n",
    "\n",
    "import matplotlib.pyplot as plt\n",
    "# matplotlib.patches lets us create colored patches, which we can use for legends in plots\n",
    "import matplotlib.patches as mpatches\n",
    "%matplotlib inline"
   ]
  },
  {
   "cell_type": "markdown",
   "metadata": {},
   "source": [
    "## Getting the data\n",
    "Let's look at data from the CDC."
   ]
  },
  {
   "cell_type": "code",
   "execution_count": null,
   "metadata": {},
   "outputs": [],
   "source": [
    "# Library used to read datasets\n",
    "# https://github.com/xmunoz/sodapy\n",
    "!pip install sodapy 2>&1 >pipsodapy.txt\n",
    "\n",
    "from sodapy import Socrata"
   ]
  },
  {
   "cell_type": "code",
   "execution_count": null,
   "metadata": {},
   "outputs": [],
   "source": [
    "# Unauthenticated client only works with public data sets. Note 'None'\n",
    "# in place of application token, and no username or password:\n",
    "client = Socrata(\"data.cdc.gov\", None)"
   ]
  },
  {
   "cell_type": "markdown",
   "metadata": {},
   "source": [
    "### Get the available datasets\n",
    "you can also go to: https://data.cdc.gov/browse?q=covid&sortBy=relevance"
   ]
  },
  {
   "cell_type": "code",
   "execution_count": null,
   "metadata": {},
   "outputs": [],
   "source": [
    "# Get information on the available datasets\n",
    "results = client.datasets() # returns an array\n",
    "print(\"Number of datasets: {}\".format(len(results)))"
   ]
  },
  {
   "cell_type": "code",
   "execution_count": null,
   "metadata": {
    "scrolled": false
   },
   "outputs": [],
   "source": [
    "# Names of the COVID-related datasets\n",
    "xxx = [res['resource'] for res in results if \"COVID\" in res['resource']['name']]\n",
    "print(\"Number of COVID related datasets: {}\".format(len(xxx)))\n",
    "[res['name'] for res in xxx]"
   ]
  },
  {
   "cell_type": "code",
   "execution_count": null,
   "metadata": {
    "scrolled": false
   },
   "outputs": [],
   "source": [
    "# Get a specific dataset to move forward with\n",
    "info = [res for res in xxx if res['name'] == 'United States COVID-19 Cases and Deaths by State over Time'][0]\n",
    "info"
   ]
  },
  {
   "cell_type": "markdown",
   "metadata": {},
   "source": [
    "### Get some metadata on the columns"
   ]
  },
  {
   "cell_type": "code",
   "execution_count": null,
   "metadata": {},
   "outputs": [],
   "source": [
    "for i in range(len(info['columns_name'])) :\n",
    "    print(\"{:15}|{}\".format(info['columns_name'][i],info['columns_datatype'][i]))"
   ]
  },
  {
   "cell_type": "code",
   "execution_count": null,
   "metadata": {
    "scrolled": true
   },
   "outputs": [],
   "source": [
    "# Get the columns for 85ca-t3if|Traffic Crashes - Crashes\n",
    "meta = client.get_metadata(info['id'])\n",
    "print(\"{:15}|{:14}|{:8}|{}\".format(\"Column name\",\"type\",\"non-null\", \"description\"))\n",
    "print(\"===============|==============|========\")\n",
    "for c in meta['columns'] :\n",
    "    print(\"{:15}|{:14}|{:8}|{}\".format(c['name'],c['dataTypeName'],c['cachedContents']['non_null'],c['description']))"
   ]
  },
  {
   "cell_type": "markdown",
   "metadata": {},
   "source": [
    "### Get all the records\n",
    "This API returns the data as character strings and limits queries to 10,000 records. We need to loop."
   ]
  },
  {
   "cell_type": "code",
   "execution_count": null,
   "metadata": {
    "scrolled": true
   },
   "outputs": [],
   "source": [
    "data_df = pd.DataFrame(client.get(info['id'], limit=10000))\n",
    "offset = 10000\n",
    "result = client.get(info['id'], offset=offset, limit=10000)\n",
    "while (len(result) > 0) :\n",
    "    data_df = data_df.append(pd.DataFrame(result))\n",
    "    offset += 10000\n",
    "    result = client.get(info['id'], offset=offset, limit=10000)\n",
    "\n",
    "print(\"Number of records: \" + str(data_df.shape[0]))\n",
    "# data_df.head()"
   ]
  },
  {
   "cell_type": "markdown",
   "metadata": {},
   "source": [
    "### We need to convert to the proper data types"
   ]
  },
  {
   "cell_type": "code",
   "execution_count": null,
   "metadata": {
    "scrolled": false
   },
   "outputs": [],
   "source": [
    "need_types = {\n",
    "    'submission_date': 'datetime64[ns]', 'tot_cases': float, 'conf_cases': float, 'prob_cases': float,\n",
    "    'new_case': float, 'pnew_case': float, 'tot_death': float, 'new_death': float, 'pnew_death': float,\n",
    "    'created_at': 'datetime64[ns]', 'conf_death': float, 'prob_death': float\n",
    "}\n",
    "data2_df = data_df.astype(need_types).sort_values(['submission_date', 'state'])\n",
    "\n",
    "data2_df.head()"
   ]
  },
  {
   "cell_type": "code",
   "execution_count": null,
   "metadata": {},
   "outputs": [],
   "source": [
    "data2_df.tail()"
   ]
  },
  {
   "cell_type": "markdown",
   "metadata": {},
   "source": [
    "### Limit the columns we use\n",
    "We use only: 'submission_date', 'state', 'tot_case', 'new_cases', 'tot_death', 'new_death'"
   ]
  },
  {
   "cell_type": "code",
   "execution_count": null,
   "metadata": {},
   "outputs": [],
   "source": [
    "data3_df = data2_df[['submission_date', 'state', 'tot_cases', 'new_case', 'tot_death', 'new_death']]"
   ]
  },
  {
   "cell_type": "markdown",
   "metadata": {},
   "source": [
    "### Let's see a set of rows for a specific state"
   ]
  },
  {
   "cell_type": "code",
   "execution_count": null,
   "metadata": {
    "scrolled": false
   },
   "outputs": [],
   "source": [
    "data3_df.loc[data3_df['state'] == 'OR'].tail(5)"
   ]
  },
  {
   "cell_type": "markdown",
   "metadata": {},
   "source": [
    "## Plot some curves: New cases\n",
    "The X axis is the index so we set it to `submission_date`"
   ]
  },
  {
   "cell_type": "code",
   "execution_count": null,
   "metadata": {
    "scrolled": false
   },
   "outputs": [],
   "source": [
    "or_df = data3_df.loc[data3_df['state'] == 'OR']\n",
    "or_df.index = or_df['submission_date']\n",
    "plt.figure(figsize=(18,6))\n",
    "or_df['new_case'].plot.line(legend=True, grid=True)\n",
    "plt.title('Daily cases, Oregon')\n",
    "plt.show()"
   ]
  },
  {
   "cell_type": "code",
   "execution_count": null,
   "metadata": {},
   "outputs": [],
   "source": [
    "ny_df = data3_df.loc[data3_df['state'] == 'NY']\n",
    "ny_df.index = ny_df['submission_date']\n",
    "plt.figure(figsize=(18,6))\n",
    "ny_df['new_case'].plot.line(legend=True,grid=True)\n",
    "plt.title('Daily cases, New York')\n",
    "plt.show()"
   ]
  },
  {
   "cell_type": "code",
   "execution_count": null,
   "metadata": {},
   "outputs": [],
   "source": [
    "ny_df.loc['2020-04'].head(10)"
   ]
  },
  {
   "cell_type": "markdown",
   "metadata": {},
   "source": [
    "### Plot New York and Oregon on the same graph"
   ]
  },
  {
   "cell_type": "code",
   "execution_count": null,
   "metadata": {
    "scrolled": false
   },
   "outputs": [],
   "source": [
    "plt.figure(figsize=(18,6))\n",
    "or_df['new_case'].plot.line(label='Oregon',legend=True,grid=True)\n",
    "ny_df['new_case'].plot.line(label='New York',legend=True,grid=True)\n",
    "plt.title('Daily cases, Oregon and New York')\n",
    "plt.show()"
   ]
  },
  {
   "cell_type": "markdown",
   "metadata": {},
   "source": [
    "### Population:\n",
    "- Oregon state  :  4,217,737\n",
    "- New York state: 19,453,561\n",
    "\n",
    "New York has over 4.6 times Oregon's population."
   ]
  },
  {
   "cell_type": "markdown",
   "metadata": {},
   "source": [
    "### States population\n",
    "We use this so we can compare states.\n",
    "\n",
    "Amazingly difficult to find. I used a table found at: https://data.ers.usda.gov/reports.aspx?ID=17827\n",
    "\n",
    "Using the 2019 column. The important part is that we have a fix data point of population by state."
   ]
  },
  {
   "cell_type": "code",
   "execution_count": null,
   "metadata": {},
   "outputs": [],
   "source": [
    "states_pop = \"\"\"\n",
    "state,description,total\n",
    "US,United States,328239523\n",
    "AL,Alabama,4903185\n",
    "AK,Alaska,731545\n",
    "AZ,Arizona,7278717\n",
    "AR,Arkansas,3017804\n",
    "CA,California,39512223\n",
    "CO,Colorado,5758736\n",
    "CT,Connecticut,3565287\n",
    "DE,Delaware,973764\n",
    "DC,District of Columbia,705749\n",
    "FL,Florida,21477737\n",
    "GA,Georgia,10617423\n",
    "HI,Hawaii,1415872\n",
    "ID,Idaho,1787065\n",
    "IL,Illinois,12671821\n",
    "IN,Indiana,6732219\n",
    "IA,Iowa,3155070\n",
    "KS,Kansas,2913314\n",
    "KY,Kentucky,4467673\n",
    "LA,Louisiana,4648794\n",
    "ME,Maine,1344212\n",
    "MD,Maryland,6045680\n",
    "MA,Massachusetts,6892503\n",
    "MI,Michigan,9986857\n",
    "MN,Minnesota,5639632\n",
    "MS,Mississippi,2976149\n",
    "MO,Missouri,6137428\n",
    "MT,Montana,1068778\n",
    "NE,Nebraska,1934408\n",
    "NV,Nevada,3080156\n",
    "NH,New Hampshire,1359711\n",
    "NJ,New Jersey,8882190\n",
    "NM,New Mexico,2096829\n",
    "NY,New York,19453561\n",
    "NC,North Carolina,10488084\n",
    "ND,North Dakota,762062\n",
    "OH,Ohio,11689100\n",
    "OK,Oklahoma,3956971\n",
    "OR,Oregon,4217737\n",
    "PA,Pennsylvania,12801989\n",
    "RI,Rhode Island,1059361\n",
    "SC,South Carolina,5148714\n",
    "SD,South Dakota,884659\n",
    "TN,Tennessee,6829174\n",
    "TX,Texas,28995881\n",
    "UT,Utah,3205958\n",
    "VT,Vermont,623989\n",
    "VA,Virginia,8535519\n",
    "WA,Washington,7614893\n",
    "WV,West Virginia,1792147\n",
    "WI,Wisconsin,5822434\n",
    "WY,Wyoming,578759\n",
    "PR,Puerto Rico,3193694\n",
    "\"\"\"\n",
    "\n",
    "with StringIO(states_pop) as f:\n",
    "    pop_df = pd.read_csv(f)\n",
    "pop_df.head()"
   ]
  },
  {
   "cell_type": "markdown",
   "metadata": {},
   "source": [
    "### Compare Oregon and New York\n",
    "This time proportionally"
   ]
  },
  {
   "cell_type": "code",
   "execution_count": null,
   "metadata": {},
   "outputs": [],
   "source": [
    "or_div = pop_df[pop_df.state == 'OR'].total.values[0] / 100000\n",
    "ny_div = pop_df[pop_df.state == 'NY'].total.values[0] / 100000\n",
    "\n",
    "or_df.new_case = or_df.new_case / or_div\n",
    "ny_df.new_case = ny_df.new_case / ny_div"
   ]
  },
  {
   "cell_type": "code",
   "execution_count": null,
   "metadata": {},
   "outputs": [],
   "source": [
    "plt.figure(figsize=(18,6))\n",
    "or_df['new_case'].plot.line(label='Oregon',legend=True,grid=True)\n",
    "ny_df['new_case'].plot.line(label='New York',legend=True,grid=True)\n",
    "plt.title('Daily cases, Oregon and New York')\n",
    "plt.show()"
   ]
  },
  {
   "cell_type": "markdown",
   "metadata": {},
   "source": [
    "### Create a timeseries for the entire US"
   ]
  },
  {
   "cell_type": "code",
   "execution_count": null,
   "metadata": {},
   "outputs": [],
   "source": [
    "# 'submission_date', 'state', 'tot_cases', 'new_case', 'tot_death', 'new_death'\n",
    "us_df = data3_df.groupby('submission_date').agg(np.sum)\n",
    "us_df.tail()"
   ]
  },
  {
   "cell_type": "markdown",
   "metadata": {},
   "source": [
    "### Plot multiple states but use number of cases by 100K people\n",
    "Also plot the US to see which ones are above and below national average"
   ]
  },
  {
   "cell_type": "code",
   "execution_count": null,
   "metadata": {},
   "outputs": [],
   "source": [
    "# us population, create a divided for cases by 100K residents\n",
    "us_100k = pop_df[pop_df.state == 'US'].total.values[0] / 100000\n",
    "us_100k_df = us_df[['new_case']] / us_100k"
   ]
  },
  {
   "cell_type": "code",
   "execution_count": null,
   "metadata": {},
   "outputs": [],
   "source": [
    "states_list=['AZ','CA', 'FL', 'HI', 'MI', 'ND', 'NY', 'OR', 'SD', 'TX']\n",
    "\n",
    "states_df = data3_df[data3_df.state.isin(states_list)][['submission_date','state','new_case']]"
   ]
  },
  {
   "cell_type": "code",
   "execution_count": null,
   "metadata": {
    "scrolled": false
   },
   "outputs": [],
   "source": [
    "nb_rows = math.ceil(len(states_list) / 2)\n",
    "\n",
    "fig, axes = plt.subplots(nrows=nb_rows, ncols=2)\n",
    "fig.set_figheight(20)\n",
    "fig.set_figwidth(15)\n",
    "for ix, ax in enumerate(axes.flatten()) :\n",
    "    if (ix < len(states_list) ) :\n",
    "        div_val = pop_df[pop_df.state == states_list[ix]].total.values[0] / 100000\n",
    "        tmp_pd = states_df[states_df['state'] == states_list[ix]][['submission_date','new_case']]\n",
    "        tmp_pd.new_case = tmp_pd.new_case / div_val\n",
    "        tmp_pd.plot.line(ax=ax, x='submission_date',y='new_case', label= states_list[ix],\n",
    "                         title=states_list[ix] + \" New Cases\", legend=True)\n",
    "        us_100k_df.plot.line(ax=ax, y='new_case', label=\"US\", legend=True)\n",
    "        ax.set_xlabel('')\n",
    "    else:\n",
    "        fig.delaxes(ax) # Remove empty graph if any"
   ]
  },
  {
   "cell_type": "markdown",
   "metadata": {},
   "source": [
    "### Compare  selected states with each other"
   ]
  },
  {
   "cell_type": "code",
   "execution_count": null,
   "metadata": {
    "scrolled": false
   },
   "outputs": [],
   "source": [
    "plt.figure(figsize=(18,6))\n",
    "states_list = ['AZ','CA','MI','OR','SD']\n",
    "fig, axes = plt.subplots(nrows=1, ncols=1)\n",
    "fig.set_figheight(6)\n",
    "fig.set_figwidth(18)\n",
    "for state in states_list :\n",
    "    diviser = pop_df[pop_df.state == state].total.values[0] / 100000\n",
    "    tmp_df = data3_df.loc[data3_df['state'] == state].reset_index()\n",
    "    tmp_df['new_case_div'] = tmp_df['new_case'].div(diviser)\n",
    "    tmp_df.plot.line(ax=axes, x='submission_date',y='new_case_div',label=state,legend=True,grid=True)\n",
    "plt.title('Daily Cases for: {}'.format(\", \".join(str(x) for x in states_list)))\n",
    "plt.show()"
   ]
  },
  {
   "cell_type": "code",
   "execution_count": null,
   "metadata": {},
   "outputs": [],
   "source": []
  }
 ],
 "metadata": {
  "kernelspec": {
   "display_name": "Python 3.7",
   "language": "python",
   "name": "python3"
  },
  "language_info": {
   "codemirror_mode": {
    "name": "ipython",
    "version": 3
   },
   "file_extension": ".py",
   "mimetype": "text/x-python",
   "name": "python",
   "nbconvert_exporter": "python",
   "pygments_lexer": "ipython3",
   "version": "3.7.10"
  }
 },
 "nbformat": 4,
 "nbformat_minor": 1
}
