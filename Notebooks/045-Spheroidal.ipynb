{
 "cells": [
  {
   "cell_type": "markdown",
   "metadata": {},
   "source": [
    "<IMG SRC=\"https://github.com/jacquesroy/byte-size-data-science/raw/master/images/Banner.png\" ALT=\"BSDS Banner\" WIDTH=1195 HEIGHT=200>"
   ]
  },
  {
   "cell_type": "markdown",
   "metadata": {},
   "source": [
    "<table align=\"left\">\n",
    "    <tr><td>\n",
    "<a rel=\"license\" href=\"http://creativecommons.org/licenses/by/4.0/\"><img alt=\"Creative Commons License\" style=\"border-width:0\" src=\"https://i.creativecommons.org/l/by/4.0/88x31.png\" /></a></td><td>This work is licensed under a <a rel=\"license\" href=\"http://creativecommons.org/licenses/by/4.0/\">Creative Commons Attribution 4.0 International License</a>.</td>\n",
    "    </tr>\n",
    "    <tr><td>Jacques Roy, Byte Size Data Science</td><td> </td></tr>\n",
    "    </table>"
   ]
  },
  {
   "cell_type": "markdown",
   "metadata": {
    "collapsed": true
   },
   "source": [
    "# Distance between two geodetic points\n",
    "Calculate distances of one degree in different locations\n"
   ]
  },
  {
   "cell_type": "markdown",
   "metadata": {},
   "source": [
    "### 045-Geo distances\n",
    "Execute the next cell if you want to see the `Byte Size Data Science` youtube channel video"
   ]
  },
  {
   "cell_type": "code",
   "execution_count": null,
   "metadata": {},
   "outputs": [],
   "source": [
    "from IPython.display import IFrame\n",
    "\n",
    "IFrame(src=\"https://www.youtube.com/embed/LKANJBxxtuQ?rel=0&amp;controls=0&amp;showinfo=0\", width=560, height=315)\n",
    "\n",
    "*** Need the proper URL ***"
   ]
  },
  {
   "cell_type": "code",
   "execution_count": null,
   "metadata": {},
   "outputs": [],
   "source": [
    "# It looks like it's already part of the Python 3.6 libraries\n",
    "# !pip install geopy"
   ]
  },
  {
   "cell_type": "code",
   "execution_count": null,
   "metadata": {},
   "outputs": [],
   "source": [
    "from geopy.distance import geodesic\n",
    "\n",
    "# equator\n",
    "equator_p1 = (0.0, 0.0)\n",
    "equator_p2 = (0.0, 1.0)\n",
    "equator_p3 = (1.0, 0.0)\n",
    "\n",
    "# Way north\n",
    "north_p1 = (80.0, 0.0)\n",
    "north_p2 = (80.0, 1.0)\n",
    "north_p3 = (81.0, 0.0)\n",
    "\n",
    "print(\"Equator horizontal (longitudinal) distance: \" + str(geodesic(equator_p1, equator_p2).miles))\n",
    "print(\"Northern horizontal (longitudinal) distance: \" + str(geodesic(north_p1, north_p2).miles))\n",
    "print(\" \")\n",
    "print(\"Equator vertical (latitudinal) distance: \" + str(geodesic(equator_p1, equator_p3).miles))\n",
    "print(\"Northern vertical (latitudinal) distance: \" + str(geodesic(north_p1, north_p3).miles))\n"
   ]
  },
  {
   "cell_type": "code",
   "execution_count": null,
   "metadata": {},
   "outputs": [],
   "source": [
    "# Chicago area \n",
    "from geopy.distance import geodesic\n",
    "dist = 0.00015\n",
    "p1 = (42.0, -87.7)\n",
    "p2 = (42.0, -87.7 + dist)\n",
    "p3 = (42.0 + dist, -87.7)\n",
    "p4 = (42.0 + dist,-87.7 + dist)\n",
    "\n",
    "print(\"Horizontal (longitudinal) distance: \" + str(geodesic(p1, p2).feet))\n",
    "print(\"Vertical (latitudinal) distance: \" + str(geodesic(p1, p3).feet))\n",
    "print(\"Diagonal distance: \" + str(geodesic(p1, p4).feet))\n"
   ]
  },
  {
   "cell_type": "code",
   "execution_count": null,
   "metadata": {},
   "outputs": [],
   "source": []
  }
 ],
 "metadata": {
  "kernelspec": {
   "display_name": "Python 3.7",
   "language": "python",
   "name": "python3"
  },
  "language_info": {
   "codemirror_mode": {
    "name": "ipython",
    "version": 3
   },
   "file_extension": ".py",
   "mimetype": "text/x-python",
   "name": "python",
   "nbconvert_exporter": "python",
   "pygments_lexer": "ipython3",
   "version": "3.7.9"
  }
 },
 "nbformat": 4,
 "nbformat_minor": 1
}
