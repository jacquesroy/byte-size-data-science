{
 "cells": [
  {
   "cell_type": "markdown",
   "metadata": {},
   "source": [
    "<IMG SRC=\"https://github.com/jacquesroy/byte-size-data-science/raw/master/images/Banner.png\" ALT=\"BSDS Banner\" WIDTH=1195 HEIGHT=200>"
   ]
  },
  {
   "cell_type": "markdown",
   "metadata": {},
   "source": [
    "<table align=\"left\">\n",
    "    <tr><td>\n",
    "<a rel=\"license\" href=\"http://creativecommons.org/licenses/by/4.0/\"><img alt=\"Creative Commons License\" style=\"border-width:0\" src=\"https://i.creativecommons.org/l/by/4.0/88x31.png\" /></a></td><td>This work is licensed under a <a rel=\"license\" href=\"http://creativecommons.org/licenses/by/4.0/\">Creative Commons Attribution 4.0 International License</a>.</td>\n",
    "    </tr>\n",
    "    <tr><td>Jacques Roy, Byte Size Data Science</td><td> </td></tr>\n",
    "    </table>"
   ]
  },
  {
   "cell_type": "markdown",
   "metadata": {
    "collapsed": true
   },
   "source": [
    "# Accessing shape files\n"
   ]
  },
  {
   "cell_type": "markdown",
   "metadata": {},
   "source": [
    "### 047-Shape files\n",
    "Execute the next cell if you want to see the `Byte Size Data Science` youtube channel video"
   ]
  },
  {
   "cell_type": "code",
   "execution_count": null,
   "metadata": {},
   "outputs": [],
   "source": [
    "from IPython.display import IFrame\n",
    "\n",
    "IFrame(src=\"https://www.youtube.com/embed/nL4XXB8QMMg?rel=0&amp;controls=0&amp;showinfo=0\", width=560, height=315)\n"
   ]
  },
  {
   "cell_type": "markdown",
   "metadata": {},
   "source": [
    "## Read the census bureau state data"
   ]
  },
  {
   "cell_type": "code",
   "execution_count": null,
   "metadata": {},
   "outputs": [],
   "source": [
    "# Redirecting the output to a file in case of problems\n",
    "!pip install geopandas 2>&1 >pipgeopandas.txt"
   ]
  },
  {
   "cell_type": "code",
   "execution_count": null,
   "metadata": {},
   "outputs": [],
   "source": [
    "import pandas as pd\n",
    "import requests, zipfile, io\n",
    "import geopandas as gp"
   ]
  },
  {
   "cell_type": "markdown",
   "metadata": {},
   "source": [
    "## Read Illinois place file"
   ]
  },
  {
   "cell_type": "code",
   "execution_count": null,
   "metadata": {},
   "outputs": [],
   "source": [
    "place_file='https://www2.census.gov/geo/tiger/TIGER2019/PLACE/tl_2019_17_place.zip'\n",
    "r = requests.get(place_file)\n",
    "z = zipfile.ZipFile(io.BytesIO(r.content))\n",
    "z.extractall()\n",
    "\n",
    "!ls -l"
   ]
  },
  {
   "cell_type": "markdown",
   "metadata": {},
   "source": [
    "## Place file definition\n",
    "Place State-based shapefile record layout:\n",
    "\n",
    "| field | Length | Type | Description |\n",
    "| -- | -- | -- | -- |\n",
    "| STATEFP | 2 | String | Current state FIPS code |\n",
    "| PLACEFP | 5 | String | Current place FIPS code |\n",
    "| PLACENS | 8 | String | Current place GNIS code |\n",
    "| GEOID | 7 | String | Place identifier; a concatenation of the current state FIPS code and place FIPS code |\n",
    "| NAME | 100 | String | Current place name |\n",
    "| NAMELSAD | 100 | String | Current name and the translated legal/statistical area description for place |\n",
    "| LSAD | 2 | String | Current legal/statistical area description code for place |\n",
    "| CLASSFP | 2 | String | Current FIPS class code |\n",
    "| PCICBSA | 1 | String | Current metropolitan or micropolitan statistical area principal city indicator |\n",
    "| PCINECTA | 1 | String | Current New England city and town area principal city indicator |\n",
    "| MTFCC | 5 | String | G4110 (incorporated place) and G4210 (census designated place) |\n",
    "| FUNCSTA | 1 | String | Current functional status |\n",
    "| ALAND | 14 | NUMBER | Current land area |\n",
    "| AWATER | 14 | String | Current water area |\n",
    "| INTPTLAT | 11 | String | Current latitude of the internal point |\n",
    "| INTPTLON | 12 | String | Current longitude of the internal point |\n",
    "| geometry | ?? | geometry | geometry |\n"
   ]
  },
  {
   "cell_type": "code",
   "execution_count": null,
   "metadata": {},
   "outputs": [],
   "source": [
    "# Format: see tech doc page 3-56\n",
    "gdf_places = gp.read_file('tl_2019_17_place.shp')\n",
    "print(\"Number of records: \" + str(gdf_places['STATEFP'].count()))\n",
    "gdf_places.head()"
   ]
  },
  {
   "cell_type": "code",
   "execution_count": null,
   "metadata": {},
   "outputs": [],
   "source": [
    "gdf_places.dtypes"
   ]
  },
  {
   "cell_type": "code",
   "execution_count": null,
   "metadata": {},
   "outputs": [],
   "source": [
    "gdf_places[\"INTPTLAT\"] = gdf_places[\"INTPTLAT\"].astype('float64')\n",
    "gdf_places[\"INTPTLON\"] = gdf_places[\"INTPTLON\"].astype('float64')"
   ]
  },
  {
   "cell_type": "code",
   "execution_count": null,
   "metadata": {},
   "outputs": [],
   "source": [
    "gdf_places.dtypes"
   ]
  },
  {
   "cell_type": "code",
   "execution_count": null,
   "metadata": {},
   "outputs": [],
   "source": [
    "gdf_places.head()"
   ]
  },
  {
   "cell_type": "markdown",
   "metadata": {},
   "source": [
    "## Manipulate a \"geometry\"\n",
    "See: https://shapely.readthedocs.io/en/stable/manual.html#general-attributes-and-methods"
   ]
  },
  {
   "cell_type": "code",
   "execution_count": null,
   "metadata": {},
   "outputs": [],
   "source": [
    "geo = gdf_places.iloc[1][\"geometry\"]\n",
    "print(\"Area: \" + str(geo.area))\n",
    "print(\"Boundary: \" + str(geo.bounds))\n",
    "print(\"Length: \" + str(geo.length))\n",
    "print(\"Type: \" + str(geo.geom_type))\n",
    "print(\"Type: \" + str(type(geo)))\n",
    "print(\"WKT: \" + geo.wkt)"
   ]
  },
  {
   "cell_type": "code",
   "execution_count": null,
   "metadata": {},
   "outputs": [],
   "source": [
    "print(geo)"
   ]
  },
  {
   "cell_type": "code",
   "execution_count": null,
   "metadata": {},
   "outputs": [],
   "source": [
    "geo"
   ]
  },
  {
   "cell_type": "code",
   "execution_count": null,
   "metadata": {},
   "outputs": [],
   "source": [
    "# !conda install -c conda-forge folium=0.5.0 --yes\n",
    "# !pip install folium==0.5.0\n",
    "# I'm installing the latest version: 0.10.0\n",
    "!pip install folium 2>&1 >foliumpip.out\n",
    "\n",
    "import folium"
   ]
  },
  {
   "cell_type": "code",
   "execution_count": null,
   "metadata": {},
   "outputs": [],
   "source": [
    "xx = gdf_places[(gdf_places['NAME'] == 'Chicago') | (gdf_places['NAME'] == 'Naperville')].bounds\n",
    "xmin = xx['minx'].min()\n",
    "ymin = xx['miny'].min() \n",
    "xmax = xx['maxx'].max() \n",
    "ymax= xx['maxy'].max()\n",
    "xx"
   ]
  },
  {
   "cell_type": "code",
   "execution_count": null,
   "metadata": {},
   "outputs": [],
   "source": [
    "# Select only the rows that are witn=hin a bounding box (Chicago area)\n",
    "# see: http://geopandas.org/indexing.html\n",
    "\n",
    "# xmin, ymin, xmax, ymax = (-87.92, 41.64, -87.52, 42.03)\n",
    "# Get some boundaries for the cities I'll pick\n",
    "xmin, ymin, xmax, ymax = \\\n",
    "    gdf_places[(gdf_places['NAME'] == 'Norridge') | (gdf_places['NAME'] == 'Woodridge')].\\\n",
    "    bounds.agg({ 'minx': 'min', 'miny': 'min', 'maxx':'max', 'maxy':'max'})\n",
    "\n",
    "subset = gdf_places.cx[xmin:xmax, ymin:ymax].reset_index()\n",
    "\n",
    "# Instead pick a few cities\n",
    "subset = gdf_places.loc[gdf_places['NAME'].isin(['Chicago','Schaumburg','Naperville','La Grange','Lombard','West Chicago'])].reset_index()\n",
    "print(\"Number of cities: \" + str(subset[\"NAME\"].count()))\n",
    "# subset.head(2)"
   ]
  },
  {
   "cell_type": "code",
   "execution_count": null,
   "metadata": {
    "scrolled": false
   },
   "outputs": [],
   "source": [
    "import shapely\n",
    "latlong = subset[['INTPTLAT', 'INTPTLON']].mean()\n",
    "\n",
    "loc_map = folium.Map(location=[latlong[0], latlong[1]], crs='EPSG3857', zoom_start=10, width=\"80%\", height=\"80%\")\n",
    "geo_objects = folium.map.FeatureGroup()\n",
    "\n",
    "# Adding the city borders\n",
    "#for ix in range(subset['NAME'].count()) :\n",
    "for ix in range(subset[\"NAME\"].count()) :\n",
    "    folium.GeoJson(\n",
    "        subset.iloc[ix]['geometry'],\n",
    "        name=subset.iloc[ix]['NAME'],\n",
    "        tooltip=subset.iloc[ix]['NAME']\n",
    "    ).add_to(loc_map)\n",
    "\n",
    "# Add the long lat point for each city\n",
    "for ix in range(subset[\"NAME\"].count()) :\n",
    "        folium.CircleMarker(\n",
    "            [subset.iloc[ix]['INTPTLAT'].item(), subset.iloc[ix]['INTPTLON'].item()],\n",
    "            radius=5, # define how big you want the circle markers to be\n",
    "            color='yellow',\n",
    "            fill=True,\n",
    "            fill_color='blue',\n",
    "            tooltip=subset.iloc[ix]['NAMELSAD'],\n",
    "            fill_opacity=0.6\n",
    "        ).add_to(loc_map)\n",
    "    \n",
    "folium.LayerControl().add_to(loc_map)\n",
    "loc_map"
   ]
  },
  {
   "cell_type": "markdown",
   "metadata": {},
   "source": [
    "## Pysal Library\n",
    "See: https://pysal.org\n",
    "\n",
    "PySAL is an open-source project designed to support spatial data science. It released under the modified BSD license."
   ]
  },
  {
   "cell_type": "code",
   "execution_count": null,
   "metadata": {},
   "outputs": [],
   "source": [
    "# Issue with pysal 2.1.0: does not find libspatialindex_c library file\n",
    "# From import spaghetti\n",
    "# Doc: https://pysal.readthedocs.io/en/latest/users/index.html\n",
    "# !pip install --upgrade -U pysal\n",
    "# !pip uninstall -y pysal\n",
    "!pip install pysal==2.0.0 2>&1 >pippysal.txt\n",
    "import pysal"
   ]
  },
  {
   "cell_type": "code",
   "execution_count": null,
   "metadata": {},
   "outputs": [],
   "source": [
    "# List the file types supported\n",
    "pysal.lib.io.fileio.FileIO.check()"
   ]
  },
  {
   "cell_type": "code",
   "execution_count": null,
   "metadata": {},
   "outputs": [],
   "source": [
    "# Read a .dbf file\n",
    "db = pysal.lib.io.fileio.FileIO('./tl_2019_17_place.dbf','r')\n",
    "db.header"
   ]
  },
  {
   "cell_type": "code",
   "execution_count": null,
   "metadata": {},
   "outputs": [],
   "source": [
    "db.field_spec"
   ]
  },
  {
   "cell_type": "code",
   "execution_count": null,
   "metadata": {},
   "outputs": [],
   "source": [
    "xxx=db.read(10)\n",
    "xxx[0]"
   ]
  },
  {
   "cell_type": "code",
   "execution_count": null,
   "metadata": {},
   "outputs": [],
   "source": [
    "# Read a shp file\n",
    "shp = pysal.lib.io.fileio.FileIO('./tl_2019_17_place.shp')\n",
    "print(str(shp[0].vertices))\n",
    "print(\"Shape FileIO type: \" + str(type(shp)))\n",
    "print(\"Record type: \" + str(type(shp[0])))"
   ]
  },
  {
   "cell_type": "code",
   "execution_count": null,
   "metadata": {},
   "outputs": [],
   "source": []
  }
 ],
 "metadata": {
  "kernelspec": {
   "display_name": "Python 3.7",
   "language": "python",
   "name": "python3"
  },
  "language_info": {
   "codemirror_mode": {
    "name": "ipython",
    "version": 3
   },
   "file_extension": ".py",
   "mimetype": "text/x-python",
   "name": "python",
   "nbconvert_exporter": "python",
   "pygments_lexer": "ipython3",
   "version": "3.7.9"
  }
 },
 "nbformat": 4,
 "nbformat_minor": 1
}
